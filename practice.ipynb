{
  "nbformat": 4,
  "nbformat_minor": 0,
  "metadata": {
    "colab": {
      "provenance": [],
      "authorship_tag": "ABX9TyN5EWkWy4pGUC5srmOuS15S",
      "include_colab_link": true
    },
    "kernelspec": {
      "name": "python3",
      "display_name": "Python 3"
    },
    "language_info": {
      "name": "python"
    }
  },
  "cells": [
    {
      "cell_type": "markdown",
      "metadata": {
        "id": "view-in-github",
        "colab_type": "text"
      },
      "source": [
        "<a href=\"https://colab.research.google.com/github/kyumin0121/NLP_2024/blob/main/practice.ipynb\" target=\"_parent\"><img src=\"https://colab.research.google.com/assets/colab-badge.svg\" alt=\"Open In Colab\"/></a>"
      ]
    },
    {
      "cell_type": "code",
      "execution_count": null,
      "metadata": {
        "colab": {
          "base_uri": "https://localhost:8080/"
        },
        "id": "dPVp3nFCzOML",
        "outputId": "f8e4b10a-4082-45e6-b3cd-3e70f4200a72"
      },
      "outputs": [
        {
          "output_type": "stream",
          "name": "stdout",
          "text": [
            "20\n"
          ]
        }
      ],
      "source": [
        "a = 20\n",
        "print (a)"
      ]
    },
    {
      "cell_type": "code",
      "source": [],
      "metadata": {
        "id": "oF8gl9UJsZ6e"
      },
      "execution_count": null,
      "outputs": []
    },
    {
      "cell_type": "code",
      "source": [],
      "metadata": {
        "id": "sbbuZoWiFZE_"
      },
      "execution_count": null,
      "outputs": []
    },
    {
      "cell_type": "code",
      "source": [
        "b = 30\n",
        "print(b)"
      ],
      "metadata": {
        "colab": {
          "base_uri": "https://localhost:8080/"
        },
        "id": "k43kjsrizd6L",
        "outputId": "98f799ab-91f7-4da2-fc77-ab366e1474aa"
      },
      "execution_count": null,
      "outputs": [
        {
          "output_type": "stream",
          "name": "stdout",
          "text": [
            "2\n"
          ]
        }
      ]
    },
    {
      "cell_type": "code",
      "source": [
        "print (a+b)"
      ],
      "metadata": {
        "colab": {
          "base_uri": "https://localhost:8080/"
        },
        "id": "FMB3SQU6zfWl",
        "outputId": "3105e0c1-33da-412e-a9a7-0963735ba254"
      },
      "execution_count": null,
      "outputs": [
        {
          "output_type": "stream",
          "name": "stdout",
          "text": [
            "22\n"
          ]
        }
      ]
    },
    {
      "cell_type": "code",
      "source": [
        "c = \"I love Python\"\n",
        "print (c)"
      ],
      "metadata": {
        "colab": {
          "base_uri": "https://localhost:8080/"
        },
        "id": "Z08ZQ0rEz9EN",
        "outputId": "6c9bda77-eb2c-4803-d64b-76bef13fd538"
      },
      "execution_count": null,
      "outputs": [
        {
          "output_type": "stream",
          "name": "stdout",
          "text": [
            "I love Python\n"
          ]
        }
      ]
    },
    {
      "cell_type": "code",
      "source": [
        "a = 'Lori'\n",
        "print(a)\n",
        "\n",
        "_b = 'Sam'\n",
        "print(_b)\n",
        "\n",
        "a_b = 'Ken'\n",
        "print(a_b)\n",
        "\n",
        "c_d = 'Jen'\n",
        "print(c_d)\n",
        "\n",
        "a= 'Emma'\n",
        "print(a)"
      ],
      "metadata": {
        "colab": {
          "base_uri": "https://localhost:8080/"
        },
        "id": "6ycMpeCL0B0t",
        "outputId": "8d5f0477-38c6-46d1-f8d3-03c214973a81"
      },
      "execution_count": null,
      "outputs": [
        {
          "output_type": "stream",
          "name": "stdout",
          "text": [
            "Lori\n",
            "Sam\n",
            "Ken\n",
            "Jen\n",
            "Emma\n"
          ]
        }
      ]
    },
    {
      "cell_type": "code",
      "source": [
        "d = [\"Mercury\", \"Venus\", \"Earth\", \"Mars\", \"Jupiter\", \"Saturn\", \"Uranus\", \"Neptune\"] #Names of planets\n",
        "e = [\"수성\", \"금성\", \"지구\", \"화성\", \"목성\", \"토성\", \"천황성\", \"혜왕성\" ] #행성 이름\n",
        "f = [1,2,3,4,5,6,7,8]\n",
        "\n",
        "print (d)\n",
        "print(e)\n",
        "print (f)"
      ],
      "metadata": {
        "id": "Z7Omh_YD0E7Q"
      },
      "execution_count": null,
      "outputs": []
    },
    {
      "cell_type": "code",
      "source": [
        "dict = {'a':1, 'b':2, 'c':3}\n",
        "\n",
        "print(dict)\n",
        "\n",
        "dict['a']=7\n",
        "print (dict)\n",
        "\n",
        "dict_data = {'c':10, 'b':20, 'a':30}\n",
        "print(dict_data)\n",
        "dict_data['a'] = 300\n",
        "print(dict_data)"
      ],
      "metadata": {
        "id": "wP7yhAe7Yeix"
      },
      "execution_count": null,
      "outputs": []
    },
    {
      "cell_type": "code",
      "source": [
        "dict = {'a':1, 'b':2, 'c':3}\n",
        "print (dict)\n",
        "print(dict['a'])\n"
      ],
      "metadata": {
        "colab": {
          "base_uri": "https://localhost:8080/"
        },
        "id": "vAtu-39A0bIk",
        "outputId": "602556d9-1f95-413d-bdf3-dbb2aab9c2d6"
      },
      "execution_count": null,
      "outputs": [
        {
          "output_type": "stream",
          "name": "stdout",
          "text": [
            "{'a': 1, 'b': 2, 'c': 3}\n",
            "1\n"
          ]
        }
      ]
    },
    {
      "cell_type": "code",
      "source": [
        "str_data = 'I love python'\n",
        "list_data = ['apple', 'banna', 'grapes','mango']\n",
        "tuple_data = ('apple', 'banana', 'grapes', 'mango')\n",
        "\n",
        "print (str_data)\n",
        "print ('\\n')\n",
        "print(list_data)\n",
        "print ('\\n')\n",
        "print(tuple_data)\n",
        "\n",
        "print (str_data[0])\n",
        "print (str_data[1])\n",
        "print (str_data[2])\n",
        "print (str_data[3])\n",
        "print (str_data[4])\n",
        "print (str_data[5])\n",
        "print (str_data[6])\n",
        "print (str_data[7])\n",
        "print (str_data[8])\n",
        "print (str_data[9])\n",
        "print (str_data[10])\n",
        "print (str_data[11])\n",
        "print (str_data[12])"
      ],
      "metadata": {
        "id": "K_A5ax-w0p9o",
        "colab": {
          "base_uri": "https://localhost:8080/"
        },
        "outputId": "8bbab3c4-5b4a-44e4-e56b-22a97e6ce823"
      },
      "execution_count": null,
      "outputs": [
        {
          "output_type": "stream",
          "name": "stdout",
          "text": [
            "I love python\n",
            "\n",
            "\n",
            "['apple', 'banna', 'grapes', 'mango']\n",
            "\n",
            "\n",
            "('apple', 'banana', 'grapes', 'mango')\n",
            "I\n",
            " \n",
            "l\n",
            "o\n",
            "v\n",
            "e\n",
            " \n",
            "p\n",
            "y\n",
            "t\n",
            "h\n",
            "o\n",
            "n\n"
          ]
        }
      ]
    },
    {
      "cell_type": "code",
      "source": [
        "x=100\n",
        "y=95\n",
        "\n",
        "if x>y:\n",
        "  print('x is greater than y.')\n",
        "\n",
        "\n",
        "else:\n",
        "  print('x is smaller than or equal to y.')"
      ],
      "metadata": {
        "colab": {
          "base_uri": "https://localhost:8080/"
        },
        "id": "TEnOA2YB1V-V",
        "outputId": "e337f478-3590-4d7b-d7f6-7bd09674d471"
      },
      "execution_count": null,
      "outputs": [
        {
          "output_type": "stream",
          "name": "stdout",
          "text": [
            "x is greater than y.\n"
          ]
        }
      ]
    },
    {
      "cell_type": "code",
      "source": [
        "x=0\n",
        "y=0\n",
        "\n",
        "if x > y:\n",
        "  print('x is greater than y')\n",
        "\n",
        "else:\n",
        "  print('x is smaller than or equal to y')"
      ],
      "metadata": {
        "colab": {
          "base_uri": "https://localhost:8080/"
        },
        "id": "X3fr9a2C1df1",
        "outputId": "18d7c4b5-c173-41dc-a0c7-bf5d15a526ca"
      },
      "execution_count": 6,
      "outputs": [
        {
          "output_type": "stream",
          "name": "stdout",
          "text": [
            "x is smaller than or equal to y\n"
          ]
        }
      ]
    },
    {
      "cell_type": "code",
      "source": [
        "list = ['a', 'b', 'c']\n",
        "if 'a' in list:\n",
        "  print ('a가 list 안에 있다.')\n",
        "  print(list)"
      ],
      "metadata": {
        "id": "ae9NGYGp1kNQ",
        "colab": {
          "base_uri": "https://localhost:8080/"
        },
        "outputId": "a53f1fb6-d667-43e7-baac-3cd1aa7d9188"
      },
      "execution_count": null,
      "outputs": [
        {
          "output_type": "stream",
          "name": "stdout",
          "text": [
            "a가 list 안에 있습니다.\n",
            "['a', 'b', 'c']\n"
          ]
        }
      ]
    },
    {
      "cell_type": "code",
      "source": [
        "str_data = 'I love python'\n",
        "list_data = ['apple', 'banna', 'grapes','mango']\n",
        "tuple_data = ('apple', 'banana', 'grapes', 'mango')\n",
        "\n",
        "print (str_data)\n",
        "print ('\\n')\n",
        "print(list_data)\n",
        "print ('\\n')\n",
        "print(tuple_data)\n",
        "\n",
        "print (str_data[0])\n",
        "print (str_data[1])\n",
        "print (str_data[2])\n",
        "print (str_data[3])\n",
        "print (str_data[4])\n",
        "print (str_data[5])\n",
        "print (str_data[6])\n",
        "print (str_data[7])\n",
        "print (str_data[8])\n",
        "print (str_data[9])\n",
        "print (str_data[10])\n",
        "print (str_data[11])\n",
        "print (str_data[12])"
      ],
      "metadata": {
        "id": "S_hxdk8OzBRk",
        "colab": {
          "base_uri": "https://localhost:8080/"
        },
        "outputId": "3e5ede6a-16d3-4ec4-bbd3-7ae381412da1"
      },
      "execution_count": null,
      "outputs": [
        {
          "output_type": "stream",
          "name": "stdout",
          "text": [
            "I love python\n",
            "\n",
            "\n",
            "['apple', 'banna', 'grapes', 'mango']\n",
            "\n",
            "\n",
            "('apple', 'banana', 'grapes', 'mango')\n",
            "I\n",
            " \n",
            "l\n",
            "o\n",
            "v\n",
            "e\n",
            " \n",
            "p\n",
            "y\n",
            "t\n",
            "h\n",
            "o\n",
            "n\n"
          ]
        }
      ]
    },
    {
      "cell_type": "code",
      "source": [
        "import re\n",
        "\n",
        "text = \"The quick brown fox jumps over the lazy dog.\"\n",
        "pattern = r\"[a-z]\"\n",
        "\n",
        "matches = re.findall(pattern, text)\n",
        "\n",
        "for i in matches:\n",
        "    print(\"Match:\", i)\n"
      ],
      "metadata": {
        "colab": {
          "base_uri": "https://localhost:8080/"
        },
        "id": "t0RO86WRWry4",
        "outputId": "8be29f2f-bc77-4adf-e14e-b5758d9dbea9"
      },
      "execution_count": null,
      "outputs": [
        {
          "output_type": "stream",
          "name": "stdout",
          "text": [
            "Match: h\n",
            "Match: e\n",
            "Match: q\n",
            "Match: u\n",
            "Match: i\n",
            "Match: c\n",
            "Match: k\n",
            "Match: b\n",
            "Match: r\n",
            "Match: o\n",
            "Match: w\n",
            "Match: n\n",
            "Match: f\n",
            "Match: o\n",
            "Match: x\n",
            "Match: j\n",
            "Match: u\n",
            "Match: m\n",
            "Match: p\n",
            "Match: s\n",
            "Match: o\n",
            "Match: v\n",
            "Match: e\n",
            "Match: r\n",
            "Match: t\n",
            "Match: h\n",
            "Match: e\n",
            "Match: l\n",
            "Match: a\n",
            "Match: z\n",
            "Match: y\n",
            "Match: d\n",
            "Match: o\n",
            "Match: g\n"
          ]
        }
      ]
    },
    {
      "cell_type": "code",
      "source": [
        "import re\n",
        "\n",
        "text = \"A total of 149 episodes of The Aesop for Children.\"\n",
        "pattern = r\"[0-9]\"\n",
        "\n",
        "matches = re.findall(pattern, text)\n",
        "\n",
        "for i in matches:\n",
        "    print(\"Match:\", i)\n"
      ],
      "metadata": {
        "colab": {
          "base_uri": "https://localhost:8080/"
        },
        "id": "2Lv8aUUzW2t0",
        "outputId": "18928b91-5f59-4b56-92cf-73340fe3c7b8"
      },
      "execution_count": null,
      "outputs": [
        {
          "output_type": "stream",
          "name": "stdout",
          "text": [
            "Match: 1\n",
            "Match: 4\n",
            "Match: 9\n"
          ]
        }
      ]
    },
    {
      "cell_type": "code",
      "source": [
        "import re\n",
        "\n",
        "text = \"Hello, world.\\n This is test #5.\"\n",
        "pattern = r\"\\.\"\n",
        "\n",
        "matches = re.findall(pattern, text)\n",
        "\n",
        "for i in matches:\n",
        "    print(\"Match:\", i)"
      ],
      "metadata": {
        "colab": {
          "base_uri": "https://localhost:8080/"
        },
        "id": "X4TucuJKXDSW",
        "outputId": "7624f824-2eed-469b-c256-64f0ce5238c2"
      },
      "execution_count": 5,
      "outputs": [
        {
          "output_type": "stream",
          "name": "stdout",
          "text": [
            "Match: .\n",
            "Match: .\n"
          ]
        }
      ]
    },
    {
      "cell_type": "code",
      "source": [
        "import re\n",
        "\n",
        "text1 = \"The price is $100 and the number pi is approximately 3.14.\"\n",
        "pattern1 = r'\\d+'\n",
        "\n",
        "text2 = \"The number pi is approximately 3.14159265358979323846 and you will hear a lot about it in Math class from 1st Grade to the 12th Grade.\"\n",
        "pattern2 = r\"\\d+\\.\\d+\"\n",
        "\n",
        "matches1 = re.findall(pattern1, text1)\n",
        "matches2 = re.findall(pattern2, text2)\n",
        "\n",
        "for i in matches1:\n",
        "    print(\"Match1:\", i)\n",
        "\n",
        "print('\\n')\n",
        "\n",
        "for i in matches2:"
      ],
      "metadata": {
        "colab": {
          "base_uri": "https://localhost:8080/",
          "height": 106
        },
        "id": "x1p8dyeuXFeN",
        "outputId": "5d462160-783e-45f0-f7ca-9cd178b2905c"
      },
      "execution_count": null,
      "outputs": [
        {
          "output_type": "error",
          "ename": "SyntaxError",
          "evalue": "incomplete input (<ipython-input-14-c6c8061bd417>, line 17)",
          "traceback": [
            "\u001b[0;36m  File \u001b[0;32m\"<ipython-input-14-c6c8061bd417>\"\u001b[0;36m, line \u001b[0;32m17\u001b[0m\n\u001b[0;31m    for i in matches2:\u001b[0m\n\u001b[0m                      ^\u001b[0m\n\u001b[0;31mSyntaxError\u001b[0m\u001b[0;31m:\u001b[0m incomplete input\n"
          ]
        }
      ]
    },
    {
      "cell_type": "code",
      "source": [
        "import re\n",
        "\n",
        "text = \"Hello   World\"\n",
        "pattern = r\"\\S\"\n",
        "\n",
        "matches = re.findall(pattern, text)\n",
        "\n",
        "for match in matches:\n",
        "    print(\"Match:\", match)"
      ],
      "metadata": {
        "colab": {
          "base_uri": "https://localhost:8080/"
        },
        "id": "oKXuX2WhXJ7i",
        "outputId": "9b5288e1-23cf-494f-ffd4-e1dcd8138da2"
      },
      "execution_count": 4,
      "outputs": [
        {
          "output_type": "stream",
          "name": "stdout",
          "text": [
            "Match: H\n",
            "Match: e\n",
            "Match: l\n",
            "Match: l\n",
            "Match: o\n",
            "Match: W\n",
            "Match: o\n",
            "Match: r\n",
            "Match: l\n",
            "Match: d\n"
          ]
        }
      ]
    },
    {
      "cell_type": "code",
      "source": [
        "import re\n",
        "\n",
        "text = \"123 _Main_ Street_ and 5th Avenue \"\n",
        "pattern = r\"\\d\\s\\w+\"\n",
        "\n",
        "matches = re.findall(pattern, text)\n",
        "\n",
        "for i in matches:\n",
        "  print(\"Match:\", i)"
      ],
      "metadata": {
        "colab": {
          "base_uri": "https://localhost:8080/"
        },
        "id": "mVXvgXEbXMyi",
        "outputId": "74754ee7-8003-4e04-cfec-1a116c9dd581"
      },
      "execution_count": 3,
      "outputs": [
        {
          "output_type": "stream",
          "name": "stdout",
          "text": [
            "Match: 3 _Main_\n"
          ]
        }
      ]
    },
    {
      "cell_type": "code",
      "source": [
        "\n",
        "scope = [1,2,3,4,5]\n",
        "\n",
        "for x in scope:\n",
        "  print(x)\n",
        "else:\n",
        "  print('Perfect')"
      ],
      "metadata": {
        "colab": {
          "base_uri": "https://localhost:8080/"
        },
        "id": "dVtSqDh5Xjxj",
        "outputId": "8dc98af3-d886-46d5-b6a2-35ac5d87b88e"
      },
      "execution_count": 2,
      "outputs": [
        {
          "output_type": "stream",
          "name": "stdout",
          "text": [
            "1\n",
            "2\n",
            "3\n",
            "4\n",
            "5\n",
            "Perfect\n"
          ]
        }
      ]
    },
    {
      "cell_type": "code",
      "source": [
        "def add_txt(t1,t2):\n",
        "  print (t1 + t2)\n",
        "\n",
        "\n",
        "def add_txt(t1, t2):\n",
        "    result = t1 + t2\n",
        "    return result\n"
      ],
      "metadata": {
        "id": "bhTSrRTuXxvg"
      },
      "execution_count": 20,
      "outputs": []
    },
    {
      "cell_type": "code",
      "source": [
        "list = [1,2,3,4]\n",
        "for i in list:\n",
        "  print(i)\n",
        "  break\n",
        "else:\n",
        "  print('Perfect')"
      ],
      "metadata": {
        "id": "G6lH_7uPYTCM",
        "outputId": "abdab708-30d8-4e5e-cb8a-e8ed679d992a",
        "colab": {
          "base_uri": "https://localhost:8080/"
        }
      },
      "execution_count": 19,
      "outputs": [
        {
          "output_type": "stream",
          "name": "stdout",
          "text": [
            "1\n"
          ]
        }
      ]
    },
    {
      "cell_type": "code",
      "source": [
        "class FourCal:\n",
        "  def setdata(self, first, second):\n",
        "    self.first = first\n",
        "    self.second = second\n",
        "\n",
        "  def add(self):\n",
        "    result = self.first + self.second\n",
        "    return result"
      ],
      "metadata": {
        "id": "TLwunYkUz1CP"
      },
      "execution_count": 18,
      "outputs": []
    },
    {
      "cell_type": "code",
      "source": [
        "class FourCal:\n",
        "  def setdata(self, first, second):\n",
        "    self.first = first\n",
        "    self.second = second\n",
        "\n",
        "  def add(self):\n",
        "    result = self.first + self.second\n",
        "    return result\n",
        "\n",
        "  def sub(self):\n",
        "    result = self.first - self.second\n",
        "    return result\n",
        "\n",
        "  def mul(self):\n",
        "    result = self.first * self.second\n",
        "    return result\n",
        "\n",
        "  def div(self):\n",
        "    result = self.first / self.second\n",
        "    return result\n",
        "\n",
        "a = FourCal()\n",
        "b = FourCal()\n",
        "c = FourCal()\n",
        "\n",
        "a.setdata(10,20)\n",
        "b.setdata(300,400)\n",
        "c.setdata(123,456)"
      ],
      "metadata": {
        "id": "4Q4pofhr0AFi"
      },
      "execution_count": 17,
      "outputs": []
    },
    {
      "cell_type": "code",
      "source": [
        "class FourCal:\n",
        "  def setdata(self, first, second):\n",
        "    self.first = first\n",
        "    self.second = second\n",
        "\n",
        "  def add(self):\n",
        "    result = self.first + self.second\n",
        "    return result\n",
        "\n",
        "  def sub(self):\n",
        "    result = self.first - self.second\n",
        "    return result\n",
        "\n",
        "  def mul(self):\n",
        "    result = self.first * self.second\n",
        "    return result\n",
        "\n",
        "  def div(self):\n",
        "    result = self.first / self.second\n",
        "    return result\n",
        "\n",
        "a = FourCal()\n",
        "b = FourCal()\n",
        "c = FourCal()\n",
        "\n",
        "a.setdata(10,20)\n",
        "b.setdata(300,400)\n",
        "c.setdata(123,456)"
      ],
      "metadata": {
        "id": "kqtQplto0ECB"
      },
      "execution_count": 16,
      "outputs": []
    },
    {
      "cell_type": "code",
      "source": [
        "class Calculator:\n",
        "    def initialize(self): #The initialize method is used to set the initial value of self.result to 0\n",
        "        self.result = 0\n",
        "\n",
        "    def add(self, num):\n",
        "        self.result += num\n",
        "        return self.result\n",
        "\n",
        "    def sub(self, num):\n",
        "        self.result -= num\n",
        "        return self.result"
      ],
      "metadata": {
        "id": "egQvcYME0JKn"
      },
      "execution_count": 15,
      "outputs": []
    },
    {
      "cell_type": "code",
      "source": [
        "\n",
        "def tokenize_and_lower(text):\n",
        "\n",
        "    text = text.replace(\"\\n\", \" \")\n",
        "\n",
        "    words = text.split()\n",
        "\n",
        "    words_lower = [word.lower() for word in words]\n",
        "    return words_lower\n",
        "\n",
        "\n",
        "text1 = \"\"\"\n",
        "Mimi Kim, teaching professor of Korean language, is the co-author of a new Korean language textbook that uses folktales as a springboard for language learning. The 21 stories that make up Tigers, Fairies, and Gods: Enchanting Folktales from Korea progress through increasingly challenging levels of diction and vocabulary while developing students’ cultural literacy.\\n Every semester, Mimi Kim asks her Korean language students at WashU to write their own Korean-style folktales. She says that folktales are “rich in cultural context, and so they provide a very effective backdrop for discussions about cultural practices and perspectives. Students really get into our discussions about commonalities and differences between Korean folktales and the stories that they grew up with in their own communities.” Kim sees cultural literacy as a key tool for the language classroom. Tigers, Fairies, and Gods grew out of that idea.\\n The book is an unusually rich visual object, with vibrant illustrations done in a style that is evocative of Korean animation. Kim and her co-author, Angela Lee-Smith of Yale University, use visual and linguistic cues to engage with students’ cultural knowledge. In “Sister Sun and Brother Moon,” for example, a brother and sister encounter a tiger in their mother’s clothing in a scene that might evoke echoes of “Little Red Riding Hood” for readers who grew up with the Grimm brothers’ tales. That kind of cross-cultural comparison is exactly what we hope for in humanities education, Kim says. “By learning a new language you gain a richer understanding of cultural differences and similarities,” she says. “Folktales are a natural tool for that work. They just needed to be put together in a way that was more useful for students.”\n",
        "\"\"\"\n",
        "\n",
        "count1 = len(text1)\n",
        "print(count1)\n",
        "\n",
        "text2 = text1.replace('\\n', ' ')\n",
        "count2 = len(text2)\n",
        "print(count2)"
      ],
      "metadata": {
        "id": "uK2f-gVuQoaU",
        "outputId": "fd43239a-037b-4d62-de53-9aeb6d453eea",
        "colab": {
          "base_uri": "https://localhost:8080/"
        }
      },
      "execution_count": 14,
      "outputs": [
        {
          "output_type": "stream",
          "name": "stdout",
          "text": [
            "1764\n",
            "1764\n"
          ]
        }
      ]
    },
    {
      "cell_type": "code",
      "source": [
        "import urllib.request\n",
        "url = \"https://raw.githubusercontent.com/ms624atyale/Temp_Data/main/Article_about_enchanting_folktakes_from_Korea.txt\"\n",
        "response = urllib.request.urlopen(url)\n",
        "content = response.read().decode('utf-8')\n",
        "\n",
        "print(content)\n",
        "\n",
        "words = content.split()\n",
        "\n",
        "unique_words = set(words)\n",
        "ttr = len(unique_words) / len(words)\n",
        "\n",
        "\n",
        "print(\"Type-Token Ratio (TTR):\", ttr)\n",
        "print(\"Unique words (Types):\", sorted(unique_words))\n",
        "print(\"Tokens:\", words)"
      ],
      "metadata": {
        "id": "eKHzW8ntQuUy",
        "outputId": "4b33840e-8919-450c-daa0-c4bcdc6e0862",
        "colab": {
          "base_uri": "https://localhost:8080/"
        }
      },
      "execution_count": 13,
      "outputs": [
        {
          "output_type": "stream",
          "name": "stdout",
          "text": [
            "Mimi Kim, teaching professor of Korean language, is the co-author of a new Korean language textbook that uses folktales as a springboard for language learning.\n",
            "The 21 stories that make up Tigers, Fairies, and Gods: Enchanting Folktales from Korea progress through increasingly challenging levels of diction and vocabulary while developing students’ cultural literacy.\\n\n",
            "Every semester, Mimi Kim asks her Korean language students at WashU to write their own Korean-style folktales. She says that folktales are “rich in cultural context, and so they provide a very effective backdrop for discussions about cultural practices and perspectives. Students really get into our discussions about commonalities and differences between Korean folktales and the stories that they grew up with in their own communities.” Kim sees cultural literacy as a key tool for the language classroom. Tigers, Fairies, and Gods grew out of that idea.\\n\n",
            "The book is an unusually rich visual object, with vibrant illustrations done in a style that is evocative of Korean animation. Kim and her co-author, Angela Lee-Smith of Yale University, use visual and linguistic cues to engage with students’ cultural knowledge. In “Sister Sun and Brother Moon,” for example, a brother and sister encounter a tiger in their mother’s clothing in a scene that might evoke echoes of “Little Red Riding Hood” for readers who grew up with the Grimm brothers’ tales.\n",
            "That kind of cross-cultural comparison is exactly what we hope for in humanities education, Kim says. “By learning a new language you gain a richer understanding of cultural differences and similarities,” she says. “Folktales are a natural tool for that work. They just needed to be put together in a way that was more useful for students.”\n",
            "\n",
            "Type-Token Ratio (TTR): 0.6272401433691757\n",
            "Unique words (Types): ['21', 'Angela', 'Brother', 'Enchanting', 'Every', 'Fairies,', 'Folktales', 'Gods', 'Gods:', 'Grimm', 'Hood”', 'In', 'Kim', 'Kim,', 'Korea', 'Korean', 'Korean-style', 'Lee-Smith', 'Mimi', 'Moon,”', 'Red', 'Riding', 'She', 'Students', 'Sun', 'That', 'The', 'They', 'Tigers,', 'University,', 'WashU', 'Yale', 'a', 'about', 'an', 'and', 'animation.', 'are', 'as', 'asks', 'at', 'backdrop', 'be', 'between', 'book', 'brother', 'brothers’', 'challenging', 'classroom.', 'clothing', 'co-author', 'co-author,', 'commonalities', 'communities.”', 'comparison', 'context,', 'cross-cultural', 'cues', 'cultural', 'developing', 'diction', 'differences', 'discussions', 'done', 'echoes', 'education,', 'effective', 'encounter', 'engage', 'evocative', 'evoke', 'exactly', 'example,', 'folktales', 'folktales.', 'for', 'from', 'gain', 'get', 'grew', 'her', 'hope', 'humanities', 'idea.\\\\n', 'illustrations', 'in', 'increasingly', 'into', 'is', 'just', 'key', 'kind', 'knowledge.', 'language', 'language,', 'learning', 'learning.', 'levels', 'linguistic', 'literacy', 'literacy.\\\\n', 'make', 'might', 'more', 'mother’s', 'natural', 'needed', 'new', 'object,', 'of', 'our', 'out', 'own', 'perspectives.', 'practices', 'professor', 'progress', 'provide', 'put', 'readers', 'really', 'rich', 'richer', 'says', 'says.', 'scene', 'sees', 'semester,', 'she', 'similarities,”', 'sister', 'so', 'springboard', 'stories', 'students', 'students.”', 'students’', 'style', 'tales.', 'teaching', 'textbook', 'that', 'the', 'their', 'they', 'through', 'tiger', 'to', 'together', 'tool', 'understanding', 'unusually', 'up', 'use', 'useful', 'uses', 'very', 'vibrant', 'visual', 'vocabulary', 'was', 'way', 'we', 'what', 'while', 'who', 'with', 'work.', 'write', 'you', '“By', '“Folktales', '“Little', '“Sister', '“rich']\n",
            "Tokens: ['Mimi', 'Kim,', 'teaching', 'professor', 'of', 'Korean', 'language,', 'is', 'the', 'co-author', 'of', 'a', 'new', 'Korean', 'language', 'textbook', 'that', 'uses', 'folktales', 'as', 'a', 'springboard', 'for', 'language', 'learning.', 'The', '21', 'stories', 'that', 'make', 'up', 'Tigers,', 'Fairies,', 'and', 'Gods:', 'Enchanting', 'Folktales', 'from', 'Korea', 'progress', 'through', 'increasingly', 'challenging', 'levels', 'of', 'diction', 'and', 'vocabulary', 'while', 'developing', 'students’', 'cultural', 'literacy.\\\\n', 'Every', 'semester,', 'Mimi', 'Kim', 'asks', 'her', 'Korean', 'language', 'students', 'at', 'WashU', 'to', 'write', 'their', 'own', 'Korean-style', 'folktales.', 'She', 'says', 'that', 'folktales', 'are', '“rich', 'in', 'cultural', 'context,', 'and', 'so', 'they', 'provide', 'a', 'very', 'effective', 'backdrop', 'for', 'discussions', 'about', 'cultural', 'practices', 'and', 'perspectives.', 'Students', 'really', 'get', 'into', 'our', 'discussions', 'about', 'commonalities', 'and', 'differences', 'between', 'Korean', 'folktales', 'and', 'the', 'stories', 'that', 'they', 'grew', 'up', 'with', 'in', 'their', 'own', 'communities.”', 'Kim', 'sees', 'cultural', 'literacy', 'as', 'a', 'key', 'tool', 'for', 'the', 'language', 'classroom.', 'Tigers,', 'Fairies,', 'and', 'Gods', 'grew', 'out', 'of', 'that', 'idea.\\\\n', 'The', 'book', 'is', 'an', 'unusually', 'rich', 'visual', 'object,', 'with', 'vibrant', 'illustrations', 'done', 'in', 'a', 'style', 'that', 'is', 'evocative', 'of', 'Korean', 'animation.', 'Kim', 'and', 'her', 'co-author,', 'Angela', 'Lee-Smith', 'of', 'Yale', 'University,', 'use', 'visual', 'and', 'linguistic', 'cues', 'to', 'engage', 'with', 'students’', 'cultural', 'knowledge.', 'In', '“Sister', 'Sun', 'and', 'Brother', 'Moon,”', 'for', 'example,', 'a', 'brother', 'and', 'sister', 'encounter', 'a', 'tiger', 'in', 'their', 'mother’s', 'clothing', 'in', 'a', 'scene', 'that', 'might', 'evoke', 'echoes', 'of', '“Little', 'Red', 'Riding', 'Hood”', 'for', 'readers', 'who', 'grew', 'up', 'with', 'the', 'Grimm', 'brothers’', 'tales.', 'That', 'kind', 'of', 'cross-cultural', 'comparison', 'is', 'exactly', 'what', 'we', 'hope', 'for', 'in', 'humanities', 'education,', 'Kim', 'says.', '“By', 'learning', 'a', 'new', 'language', 'you', 'gain', 'a', 'richer', 'understanding', 'of', 'cultural', 'differences', 'and', 'similarities,”', 'she', 'says.', '“Folktales', 'are', 'a', 'natural', 'tool', 'for', 'that', 'work.', 'They', 'just', 'needed', 'to', 'be', 'put', 'together', 'in', 'a', 'way', 'that', 'was', 'more', 'useful', 'for', 'students.”']\n"
          ]
        }
      ]
    },
    {
      "cell_type": "code",
      "source": [
        "import re\n",
        "\n",
        "text = \"The quick brown fox jumps over the lazy dog.\"\n",
        "pattern = r\"[a-z]\"\n",
        "\n",
        "matches = re.findall(pattern, text)\n",
        "\n",
        "for i in matches:\n",
        "    print(\"Match:\", i)"
      ],
      "metadata": {
        "id": "cShEdKuOYjXq",
        "outputId": "12579f65-499b-4654-d7de-0ebc896fe205",
        "colab": {
          "base_uri": "https://localhost:8080/"
        }
      },
      "execution_count": 12,
      "outputs": [
        {
          "output_type": "stream",
          "name": "stdout",
          "text": [
            "Match: h\n",
            "Match: e\n",
            "Match: q\n",
            "Match: u\n",
            "Match: i\n",
            "Match: c\n",
            "Match: k\n",
            "Match: b\n",
            "Match: r\n",
            "Match: o\n",
            "Match: w\n",
            "Match: n\n",
            "Match: f\n",
            "Match: o\n",
            "Match: x\n",
            "Match: j\n",
            "Match: u\n",
            "Match: m\n",
            "Match: p\n",
            "Match: s\n",
            "Match: o\n",
            "Match: v\n",
            "Match: e\n",
            "Match: r\n",
            "Match: t\n",
            "Match: h\n",
            "Match: e\n",
            "Match: l\n",
            "Match: a\n",
            "Match: z\n",
            "Match: y\n",
            "Match: d\n",
            "Match: o\n",
            "Match: g\n"
          ]
        }
      ]
    },
    {
      "cell_type": "code",
      "source": [
        "import re\n",
        "\n",
        "text = \"New York is a wonderful city.\"\n",
        "pattern = r\"[a-zA-Z]\"\n",
        "\n",
        "matches = re.findall(pattern, text)\n",
        "\n",
        "for i in matches:\n",
        "    print(\"Match:\", i)\n",
        ""
      ],
      "metadata": {
        "id": "inqP_w0KYnlM",
        "outputId": "2294d44e-e99a-466b-b66b-eda1c2c9f36c",
        "colab": {
          "base_uri": "https://localhost:8080/"
        }
      },
      "execution_count": 11,
      "outputs": [
        {
          "output_type": "stream",
          "name": "stdout",
          "text": [
            "Match: N\n",
            "Match: e\n",
            "Match: w\n",
            "Match: Y\n",
            "Match: o\n",
            "Match: r\n",
            "Match: k\n",
            "Match: i\n",
            "Match: s\n",
            "Match: a\n",
            "Match: w\n",
            "Match: o\n",
            "Match: n\n",
            "Match: d\n",
            "Match: e\n",
            "Match: r\n",
            "Match: f\n",
            "Match: u\n",
            "Match: l\n",
            "Match: c\n",
            "Match: i\n",
            "Match: t\n",
            "Match: y\n"
          ]
        }
      ]
    },
    {
      "cell_type": "code",
      "source": [
        "import re\n",
        "\n",
        "text = \"24 Hours a Day, 7 Days a Week, & 365 Days a Year!\"\n",
        "pattern = r\"[a-zA-Z0-9]\"\n",
        "matches = re.findall(pattern, text)\n",
        "\n",
        "for i in matches:\n",
        "    print(\"Match:\", i)"
      ],
      "metadata": {
        "id": "7yJkRs9xYsxQ",
        "outputId": "1c1a9ff0-3762-44a1-aa7b-1f0a0f80d1e6",
        "colab": {
          "base_uri": "https://localhost:8080/"
        }
      },
      "execution_count": 10,
      "outputs": [
        {
          "output_type": "stream",
          "name": "stdout",
          "text": [
            "Match: 2\n",
            "Match: 4\n",
            "Match: H\n",
            "Match: o\n",
            "Match: u\n",
            "Match: r\n",
            "Match: s\n",
            "Match: a\n",
            "Match: D\n",
            "Match: a\n",
            "Match: y\n",
            "Match: 7\n",
            "Match: D\n",
            "Match: a\n",
            "Match: y\n",
            "Match: s\n",
            "Match: a\n",
            "Match: W\n",
            "Match: e\n",
            "Match: e\n",
            "Match: k\n",
            "Match: 3\n",
            "Match: 6\n",
            "Match: 5\n",
            "Match: D\n",
            "Match: a\n",
            "Match: y\n",
            "Match: s\n",
            "Match: a\n",
            "Match: Y\n",
            "Match: e\n",
            "Match: a\n",
            "Match: r\n"
          ]
        }
      ]
    },
    {
      "cell_type": "code",
      "source": [
        "import re\n",
        "\n",
        "text = \"24 Hours a Day,\\n7 Days a Week,\\n & \\t 365 Days a Year!\"\n",
        "\n",
        "pattern = r\"[^a-zA-Z0-9]\"\n",
        "\n",
        "matches = re.findall(pattern, text)\n",
        "\n",
        "for i in matches:\n",
        "    print(\"Match:\", i)"
      ],
      "metadata": {
        "id": "aqzXwyuSY3yL",
        "outputId": "cda5fccc-0c5c-4ff8-b425-533c89963e64",
        "colab": {
          "base_uri": "https://localhost:8080/"
        }
      },
      "execution_count": 9,
      "outputs": [
        {
          "output_type": "stream",
          "name": "stdout",
          "text": [
            "Match:  \n",
            "Match:  \n",
            "Match:  \n",
            "Match: ,\n",
            "Match: \n",
            "\n",
            "Match:  \n",
            "Match:  \n",
            "Match:  \n",
            "Match: ,\n",
            "Match: \n",
            "\n",
            "Match:  \n",
            "Match: &\n",
            "Match:  \n",
            "Match: \t\n",
            "Match:  \n",
            "Match:  \n",
            "Match:  \n",
            "Match:  \n",
            "Match: !\n"
          ]
        }
      ]
    },
    {
      "cell_type": "code",
      "source": [
        "import re\n",
        "\n",
        "text = \"Hello, world.\\n This is test #5.\"\n",
        "pattern = r\"\\.\"\n",
        "\n",
        "matches = re.findall(pattern, text)\n",
        "\n",
        "for i in matches:\n",
        "    print(\"Match:\", i)\n",
        ""
      ],
      "metadata": {
        "id": "eIuT4PxHZN5V",
        "outputId": "ed9d3714-9518-4cd7-e79a-c3bf30dec0d4",
        "colab": {
          "base_uri": "https://localhost:8080/"
        }
      },
      "execution_count": 8,
      "outputs": [
        {
          "output_type": "stream",
          "name": "stdout",
          "text": [
            "Match: .\n",
            "Match: .\n"
          ]
        }
      ]
    },
    {
      "cell_type": "code",
      "source": [
        "import re\n",
        "\n",
        "text = \"The price is $100.\"\n",
        "pattern = r\"$\"\n",
        "\n",
        "matches = re.findall(pattern, text)\n",
        "\n",
        "for i in matches:\n",
        "    print(\"Match:\", i)"
      ],
      "metadata": {
        "id": "7G239NCkZUz7"
      },
      "execution_count": null,
      "outputs": []
    },
    {
      "cell_type": "code",
      "source": [
        "text = \"Hello   World\"\n",
        "pattern = r\"\\S\"\n",
        "\n",
        "matches = re.findall(pattern, text)\n",
        "print(matches)\n",
        "\n",
        "for match in matches:\n",
        "    print(\"Match:\", match)"
      ],
      "metadata": {
        "id": "7mh3voQAZdyz"
      },
      "execution_count": null,
      "outputs": []
    },
    {
      "cell_type": "code",
      "source": [
        "import re\n",
        "\n",
        "text = \"123 _Main_ Street_ and 5th Avenue \"\n",
        "pattern = r\"\\d+\\s\\w+\"\n",
        "\n",
        "matches = re.findall(pattern, text)\n",
        "print(matches)\n",
        "\n",
        "for i in matches:\n",
        "  print(\"Match:\", i)"
      ],
      "metadata": {
        "id": "pcPBiQkOZhgM"
      },
      "execution_count": null,
      "outputs": []
    },
    {
      "cell_type": "code",
      "source": [],
      "metadata": {
        "id": "mvEOgro5Zqgj"
      },
      "execution_count": null,
      "outputs": []
    }
  ]
}