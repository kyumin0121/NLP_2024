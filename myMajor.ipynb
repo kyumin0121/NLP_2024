{
  "nbformat": 4,
  "nbformat_minor": 0,
  "metadata": {
    "colab": {
      "provenance": [],
      "authorship_tag": "ABX9TyN4r1SWtueLUf4AjJh9HYsl",
      "include_colab_link": true
    },
    "kernelspec": {
      "name": "python3",
      "display_name": "Python 3"
    },
    "language_info": {
      "name": "python"
    }
  },
  "cells": [
    {
      "cell_type": "markdown",
      "metadata": {
        "id": "view-in-github",
        "colab_type": "text"
      },
      "source": [
        "<a href=\"https://colab.research.google.com/github/kyumin0121/NLP_2024/blob/main/myMajor.ipynb\" target=\"_parent\"><img src=\"https://colab.research.google.com/assets/colab-badge.svg\" alt=\"Open In Colab\"/></a>"
      ]
    },
    {
      "cell_type": "markdown",
      "source": [
        "# 💻 💻 **Let me introduce my major**💻 💻\n",
        "\n",
        "\n",
        "## My major is **Department of telecommunication engineering** 💻 💻\n",
        "\n",
        "## Department of telecommunication engineering\n",
        "#"
      ],
      "metadata": {
        "id": "ufS9xu_zewCB"
      }
    },
    {
      "cell_type": "code",
      "execution_count": null,
      "metadata": {
        "id": "Uwz6Bi2c2nZ_"
      },
      "outputs": [],
      "source": []
    }
  ]
}