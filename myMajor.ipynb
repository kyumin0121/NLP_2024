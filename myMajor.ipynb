{
  "nbformat": 4,
  "nbformat_minor": 0,
  "metadata": {
    "colab": {
      "provenance": [],
      "authorship_tag": "ABX9TyOJ0ypAuhw9uPU0BKDVjwTd",
      "include_colab_link": true
    },
    "kernelspec": {
      "name": "python3",
      "display_name": "Python 3"
    },
    "language_info": {
      "name": "python"
    }
  },
  "cells": [
    {
      "cell_type": "markdown",
      "metadata": {
        "id": "view-in-github",
        "colab_type": "text"
      },
      "source": [
        "<a href=\"https://colab.research.google.com/github/kyumin0121/NLP_2024/blob/main/myMajor.ipynb\" target=\"_parent\"><img src=\"https://colab.research.google.com/assets/colab-badge.svg\" alt=\"Open In Colab\"/></a>"
      ]
    },
    {
      "cell_type": "markdown",
      "source": [
        "# 💻 💻 **My Major_2024**💻 💻\n",
        "\n",
        "\n",
        "## **<font color = 'green' >Department of Information and Communication Engineering**\n",
        "\n",
        "##  1. **Introduce major**\n",
        "- Semiconductor and Display sectors\n",
        "- Multimedia signal processing field\n",
        "- Communications and Networking\n",
        "\n",
        "## 2. **Related occupation**\n",
        "- Software developer\n",
        "- Bigadta expert\n",
        "- robotics engineer\n"
      ],
      "metadata": {
        "id": "ufS9xu_zewCB"
      }
    },
    {
      "cell_type": "code",
      "execution_count": null,
      "metadata": {
        "id": "Uwz6Bi2c2nZ_"
      },
      "outputs": [],
      "source": []
    }
  ]
}