{
  "nbformat": 4,
  "nbformat_minor": 0,
  "metadata": {
    "colab": {
      "provenance": [],
      "authorship_tag": "ABX9TyOXIDDPqY6wQ6hp2s318Ezm",
      "include_colab_link": true
    },
    "kernelspec": {
      "name": "python3",
      "display_name": "Python 3"
    },
    "language_info": {
      "name": "python"
    }
  },
  "cells": [
    {
      "cell_type": "markdown",
      "metadata": {
        "id": "view-in-github",
        "colab_type": "text"
      },
      "source": [
        "<a href=\"https://colab.research.google.com/github/kyumin0121/NLP_2024/blob/main/myMajor.ipynb\" target=\"_parent\"><img src=\"https://colab.research.google.com/assets/colab-badge.svg\" alt=\"Open In Colab\"/></a>"
      ]
    },
    {
      "cell_type": "markdown",
      "source": [
        "# 💻 💻 **My Major_2024**💻 💻\n",
        "\n",
        "\n",
        "## **<font color = 'green' >Department of Information and Communication Engineering**\n",
        "\n",
        "##  1. **Curriculum**\n",
        "- Software technology\n",
        "- Programming\n",
        "- Digital circuitry\n",
        "- Electromagnetism\n",
        "- Fourth Industrial Convergence\n",
        "- [**More information**](https://ice.hannam.ac.kr/intro-4/)\n",
        "\n",
        "## 2. **Related occupation**\n",
        "- Software developer\n",
        "- Bigadta expert\n",
        "- robotics engineer\n",
        "- [**More information**](https://ice.hannam.ac.kr/future_roadmap/)\n",
        "\n",
        "## 3. **certificate**\n",
        "- ([Engineer Information & Communication](https://terms.naver.com/entry.naver?docId=977046&cid=42114&categoryId=42114))\n",
        "- Engineer Radio Telecommunication Equipment\n",
        "- Radio electronic communication technician\n",
        "\n",
        "### 4. ***Video materials***\n",
        "- ([**Visit youtube**](https://www.youtube.com/watch?v=7SDYj8Oc1K4))\n",
        "- ([**Visit youtube**](https://www.youtube.com/watch?v=dc77ksh07bE))\n"
      ],
      "metadata": {
        "id": "ufS9xu_zewCB"
      }
    },
    {
      "cell_type": "code",
      "execution_count": null,
      "metadata": {
        "id": "Uwz6Bi2c2nZ_"
      },
      "outputs": [],
      "source": []
    }
  ]
}